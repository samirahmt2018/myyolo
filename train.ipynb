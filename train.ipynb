{
 "cells": [
  {
   "cell_type": "code",
   "execution_count": 1,
   "metadata": {},
   "outputs": [],
   "source": [
    "from numpy import float32\n",
    "from tensorflow.python.keras.engine import training\n",
    "import config\n",
    "from tensorflow.keras.optimizers import Adam\n",
    "import tensorflow as tf\n",
    "from yolo3 import YOLOv3\n",
    "from tqdm import tqdm\n",
    "import tensorboard as tb\n",
    "#from myutils import (\n",
    "#    mean_average_precision,\n",
    "#    cells_to_bboxes,\n",
    "#    get_evaluation_bboxes,\n",
    "#    save_checkpoint,\n",
    "#    load_checkpoint,\n",
    "#    check_class_accuracy,\n",
    "#    get_loaders,\n",
    "#    plot_couple_examples\n",
    "#)\n",
    "from loss import myYoloLoss\n",
    "from dataset import YOLODataset\n",
    "import warnings\n",
    "warnings.filterwarnings(\"ignore\")\n",
    "\n"
   ]
  },
  {
   "cell_type": "code",
   "execution_count": 2,
   "metadata": {},
   "outputs": [],
   "source": [
    "\n",
    "def train_fn(data_train,data_valid, model, optimizer, scaled_anchors,num_epochs):\n",
    "   \n",
    "    losses = []\n",
    "    min_loss=1e10\n",
    "    for epoch in range(num_epochs):\n",
    "        print(f\"\\n Start of Training Epoch {epoch}\") \n",
    "        for step, (x_batch, y_batch) in tqdm(enumerate(data_train),\"Training Steps\",total=data_train.__len__()):\n",
    "            \n",
    "            with tf.GradientTape() as tape:\n",
    "                #print(\"ini batch\",x_batch.shape)\n",
    "                y_pred= model(x_batch, training=True)\n",
    "                #print(\"third dim\",y_pred[2].shape, y_batch[2].shape)\n",
    "                #print(\"second dim loss\", myYoloLoss(y_pred[1], y_batch[1], scaled_anchors[1]) )\n",
    "                #loss= myYoloLoss(y_pred,y_batch,)\n",
    "                #print(\"third dim loss\", myYoloLoss(y_pred[2], y_batch[2], scaled_anchors[2]))\n",
    "                loss = (\n",
    "                            myYoloLoss(y_pred[0], y_batch[0], scaled_anchors[0])\n",
    "                            + myYoloLoss(y_pred[1], y_batch[1], scaled_anchors[1])\n",
    "                            + myYoloLoss(y_pred[2], y_batch[2], scaled_anchors[2])\n",
    "                        )\n",
    "                #print(loss)\n",
    "            losses.append(loss)\n",
    "\n",
    "            gradients= tape.gradient(loss, model.trainable_weights)\n",
    "            optimizer.apply_gradients(zip(gradients,model.trainable_weights))\n",
    "        val_losses=[]\n",
    "        for step, (x_batch, y_batch) in tqdm(enumerate(data_valid),desc=\"Validation Steps\",total=data_valid.__len__()):\n",
    "            \n",
    "            \n",
    "            y_pred= model(x_batch, training=True)\n",
    "            #print(\"third dim\",y_pred[2].shape, y_batch[2].shape)\n",
    "            #print(\"second dim loss\", myYoloLoss(y_pred[1], y_batch[1], scaled_anchors[1]) )\n",
    "            #loss= myYoloLoss(y_pred,y_batch,)\n",
    "            #print(\"third dim loss\", myYoloLoss(y_pred[2], y_batch[2], scaled_anchors[2]))\n",
    "            val_loss = (\n",
    "                        myYoloLoss(y_pred[0], y_batch[0], scaled_anchors[0])\n",
    "                        + myYoloLoss(y_pred[1], y_batch[1], scaled_anchors[1])\n",
    "                        + myYoloLoss(y_pred[2], y_batch[2], scaled_anchors[2])\n",
    "                    )\n",
    "            #print(loss)\n",
    "            val_losses.append(val_loss)\n",
    "\n",
    "        \n",
    "#\n",
    "        ## update progress bar\n",
    "        mean_loss = sum(losses) / len(losses)\n",
    "        mean_val_loss=sum(val_losses)/len(val_losses)\n",
    "        if mean_val_loss<min_loss:\n",
    "            min_loss=mean_val_loss\n",
    "            model.save_weights(\"/Volumes/MyData/Saves_epoch_\"+str(epoch)+\"_model_\"+str(int(min_loss))+\".h5\")\n",
    "        #if epoch==0:\n",
    "        #    model.summary()\n",
    "        print(f\"Epoch: {epoch} Loss:{float(mean_loss)}  Validation Loss:{float(mean_val_loss)}\")\n",
    "        #print(f\"Mean loss over epoch{mean_loss}\")\n",
    "        \n",
    "\n"
   ]
  },
  {
   "cell_type": "code",
   "execution_count": 3,
   "metadata": {},
   "outputs": [
    {
     "name": "stderr",
     "output_type": "stream",
     "text": [
      "2022-01-14 09:21:21.637142: I tensorflow/core/common_runtime/pluggable_device/pluggable_device_factory.cc:305] Could not identify NUMA node of platform GPU ID 0, defaulting to 0. Your kernel may not have been built with NUMA support.\n",
      "2022-01-14 09:21:21.638354: I tensorflow/core/common_runtime/pluggable_device/pluggable_device_factory.cc:271] Created TensorFlow device (/job:localhost/replica:0/task:0/device:GPU:0 with 0 MB memory) -> physical PluggableDevice (device: 0, name: METAL, pci bus id: <undefined>)\n"
     ]
    },
    {
     "name": "stdout",
     "output_type": "stream",
     "text": [
      "Metal device set to: Apple M1\n",
      "\n",
      "systemMemory: 16.00 GB\n",
      "maxCacheSize: 5.33 GB\n",
      "\n",
      "\n",
      " Start of Training Epoch 0\n"
     ]
    },
    {
     "name": "stderr",
     "output_type": "stream",
     "text": [
      "Training Steps: 100%|██████████| 248/248 [12:34<00:00,  3.04s/it]\n",
      "Validation Steps: 100%|██████████| 3/3 [00:06<00:00,  2.06s/it]\n"
     ]
    },
    {
     "name": "stdout",
     "output_type": "stream",
     "text": [
      "Epoch: 0 Loss:316.1191101074219  Validation Loss:971.1761474609375\n",
      "\n",
      " Start of Training Epoch 1\n"
     ]
    },
    {
     "name": "stderr",
     "output_type": "stream",
     "text": [
      "Training Steps: 100%|██████████| 248/248 [12:12<00:00,  2.95s/it]\n",
      "Validation Steps: 100%|██████████| 3/3 [00:05<00:00,  1.99s/it]\n"
     ]
    },
    {
     "name": "stdout",
     "output_type": "stream",
     "text": [
      "Epoch: 1 Loss:312.52996826171875  Validation Loss:973.9589233398438\n",
      "\n",
      " Start of Training Epoch 2\n"
     ]
    },
    {
     "name": "stderr",
     "output_type": "stream",
     "text": [
      "Training Steps: 100%|██████████| 248/248 [12:07<00:00,  2.93s/it]\n",
      "Validation Steps: 100%|██████████| 3/3 [00:05<00:00,  1.98s/it]\n"
     ]
    },
    {
     "name": "stdout",
     "output_type": "stream",
     "text": [
      "Epoch: 2 Loss:311.4537353515625  Validation Loss:974.3355712890625\n",
      "\n",
      " Start of Training Epoch 3\n"
     ]
    },
    {
     "name": "stderr",
     "output_type": "stream",
     "text": [
      "Training Steps: 100%|██████████| 248/248 [12:06<00:00,  2.93s/it]\n",
      "Validation Steps: 100%|██████████| 3/3 [00:04<00:00,  1.55s/it]\n"
     ]
    },
    {
     "name": "stdout",
     "output_type": "stream",
     "text": [
      "Epoch: 3 Loss:310.1663513183594  Validation Loss:969.59326171875\n",
      "\n",
      " Start of Training Epoch 4\n"
     ]
    },
    {
     "name": "stderr",
     "output_type": "stream",
     "text": [
      "Training Steps: 100%|██████████| 248/248 [09:15<00:00,  2.24s/it]\n",
      "Validation Steps: 100%|██████████| 3/3 [00:04<00:00,  1.54s/it]\n"
     ]
    },
    {
     "name": "stdout",
     "output_type": "stream",
     "text": [
      "Epoch: 4 Loss:308.0191955566406  Validation Loss:936.258056640625\n",
      "\n",
      " Start of Training Epoch 5\n"
     ]
    },
    {
     "name": "stderr",
     "output_type": "stream",
     "text": [
      "Training Steps:  43%|████▎     | 106/248 [04:30<05:01,  2.12s/it]"
     ]
    }
   ],
   "source": [
    "model = YOLOv3(num_classes=config.NUM_CLASSES)\n",
    "\n",
    "optimizer = Adam(learning_rate=config.LEARNING_RATE)\n",
    "\n",
    "\n",
    "train_generator = YOLODataset(\n",
    "    config.ANN_PATH,\n",
    "    config.CLASS_PATH,\n",
    "    config.IMG_DIR,\n",
    "    S=[13, 26, 52],\n",
    "    anchors_path=\"yolo_anchors.txt\",\n",
    ")\n",
    "valid_generator = YOLODataset(\n",
    "    config.VAL_PATH,\n",
    "    config.CLASS_PATH,\n",
    "    config.IMG_DIR,\n",
    "    S=[13, 26, 52],\n",
    "    anchors_path=\"yolo_anchors.txt\",\n",
    ")\n",
    "\n",
    "scaling_S=tf.constant([[[13, 13],\n",
    "        [13, 13],\n",
    "        [13, 13]],\n",
    "\n",
    "    [[26, 26],\n",
    "        [26, 26],\n",
    "        [26, 26]],\n",
    "\n",
    "    [[52, 52],\n",
    "        [52, 52],\n",
    "        [52, 52]]], dtype=float32)\n",
    "\n",
    "#print(tf.constant(config.ANCHORS).shape)\n",
    "#print(tf.repeat(tf.expand_dims(tf.expand_dims(tf.constant(config.S,dtype=float32),1),2),(1, 3, 2)))\n",
    "scaled_anchors = (\n",
    "    tf.constant(config.ANCHORS)\n",
    "    * scaling_S\n",
    ")\n",
    "\n",
    "\n",
    "train_fn(train_generator,valid_generator, model, optimizer, scaled_anchors,config.NUM_EPOCHS)"
   ]
  },
  {
   "cell_type": "code",
   "execution_count": null,
   "metadata": {},
   "outputs": [],
   "source": []
  }
 ],
 "metadata": {
  "interpreter": {
   "hash": "c8d03e16d176fb5de714109c2c27453390ca07f55c24c59f024f3959b39f98f1"
  },
  "kernelspec": {
   "display_name": "Python 3.8.12 64-bit ('sami': conda)",
   "language": "python",
   "name": "python3"
  },
  "language_info": {
   "codemirror_mode": {
    "name": "ipython",
    "version": 3
   },
   "file_extension": ".py",
   "mimetype": "text/x-python",
   "name": "python",
   "nbconvert_exporter": "python",
   "pygments_lexer": "ipython3",
   "version": "3.8.12"
  },
  "orig_nbformat": 4
 },
 "nbformat": 4,
 "nbformat_minor": 2
}
